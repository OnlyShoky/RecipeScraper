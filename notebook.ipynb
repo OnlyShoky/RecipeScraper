{
 "cells": [
  {
   "cell_type": "code",
   "execution_count": 14,
   "metadata": {},
   "outputs": [],
   "source": [
    "import requests\n",
    "from bs4 import BeautifulSoup\n",
    "import xml.etree.ElementTree as ET"
   ]
  },
  {
   "cell_type": "code",
   "execution_count": 55,
   "metadata": {},
   "outputs": [],
   "source": [
    "url = 'https://preppykitchen.com/wprm_print/banana-waffles-recipe'\n",
    "try:\n",
    "    # Send a GET request to the base page\n",
    "    headers = {\"User-Agent\": \"Mozilla/5.0 (Windows NT 10.0; Win64; x64) AppleWebKit/537.36 (KHTML, like Gecko) Chrome/114.0.0.0 Safari/537.36\"}\n",
    "    response = requests.get(url, headers=headers)\n",
    "    response.raise_for_status()\n",
    "except requests.exceptions.RequestException as e:\n",
    "    print(f\"Error fetching {url}: {e}\")\n",
    "    \n"
   ]
  },
  {
   "cell_type": "code",
   "execution_count": 58,
   "metadata": {},
   "outputs": [
    {
     "name": "stdout",
     "output_type": "stream",
     "text": [
      "Title: Title not found\n",
      "Image URL: https://preppykitchen.com/wp-content/uploads/2024/12/Banana-Waffles-Recipe-Card-330x330.jpg\n"
     ]
    }
   ],
   "source": [
    "# Parse the HTML content using BeautifulSoup\n",
    "soup = BeautifulSoup(response.content, 'html.parser')\n",
    "\n"
   ]
  },
  {
   "cell_type": "code",
   "execution_count": 59,
   "metadata": {},
   "outputs": [
    {
     "name": "stdout",
     "output_type": "stream",
     "text": [
      "Title: Banana Waffles Recipe\n",
      "Image URL: https://preppykitchen.com/wp-content/uploads/2024/12/Banana-Waffles-Recipe-Card-330x330.jpg\n"
     ]
    }
   ],
   "source": [
    "# Extract the title\n",
    "title = soup.find('h2')  # The title is typically in an <h1> tag\n",
    "if title:\n",
    "    title_text = title.get_text().strip()\n",
    "else:\n",
    "    title_text = \"Title not found\"\n",
    "\n",
    "# Extract the image URL\n",
    "image = soup.find('img')  # The image is typically in an <img> tag\n",
    "if image and 'src' in image.attrs:\n",
    "    image_url = image['src']\n",
    "else:\n",
    "    image_url = \"Image not found\"\n",
    "\n",
    "# Print the extracted information\n",
    "print(\"Title:\", title_text)\n",
    "print(\"Image URL:\", image_url)"
   ]
  },
  {
   "cell_type": "code",
   "execution_count": 66,
   "metadata": {},
   "outputs": [
    {
     "data": {
      "text/plain": [
       "'Breakfast'"
      ]
     },
     "execution_count": 66,
     "metadata": {},
     "output_type": "execute_result"
    }
   ],
   "source": [
    "soup.find('span', class_='wprm-recipe-course').text.strip()"
   ]
  },
  {
   "cell_type": "code",
   "execution_count": null,
   "metadata": {},
   "outputs": [],
   "source": [
    "def extract_time(time_string):\n",
    "    \"\"\"Convert time string to HH:MM:SS format\"\"\"\n",
    "    if not time_string:\n",
    "        return None\n",
    "    minutes = int(re.search(r'\\d+', time_string).group())\n",
    "    return f\"{minutes//60:02d}:{minutes%60:02d}:00\"\n",
    "\n",
    "def extract_ingredients(soup):\n",
    "    \"\"\"Extract ingredients information\"\"\"\n",
    "    ingredients_list = []\n",
    "    ingredients_container = soup.find('div', class_='wprm-recipe-ingredients-container')\n",
    "    \n",
    "    if ingredients_container:\n",
    "        ingredient_items = ingredients_container.find_all('li', class_='wprm-recipe-ingredient')\n",
    "        \n",
    "        for item in ingredient_items:\n",
    "            amount = item.find('span', class_='wprm-recipe-ingredient-amount')\n",
    "            unit = item.find('span', class_='wprm-recipe-ingredient-unit')\n",
    "            name = item.find('span', class_='wprm-recipe-ingredient-name')\n",
    "            notes = item.find('span', class_='wprm-recipe-ingredient-notes')\n",
    "            \n",
    "            ingredient_dict = {\n",
    "                \"ingredient\": {\n",
    "                    \"name\": name.text.strip() if name else None,\n",
    "                    \"nutrition\": notes.text.strip() if notes else None\n",
    "                },\n",
    "                \"quantity\": float(amount.text.strip()) if amount else None,\n",
    "                \"unit\": unit.text.strip() if unit else \"whole\"\n",
    "            }\n",
    "            ingredients_list.append(ingredient_dict)\n",
    "    \n",
    "\n",
    "    return ingredients_list"
   ]
  },
  {
   "cell_type": "code",
   "execution_count": 75,
   "metadata": {},
   "outputs": [
    {
     "ename": "ValueError",
     "evalue": "could not convert string to float: '1½'",
     "output_type": "error",
     "traceback": [
      "\u001b[1;31m---------------------------------------------------------------------------\u001b[0m",
      "\u001b[1;31mValueError\u001b[0m                                Traceback (most recent call last)",
      "Cell \u001b[1;32mIn[75], line 35\u001b[0m\n\u001b[0;32m     33\u001b[0m \u001b[38;5;66;03m# Test with a mixed fraction\u001b[39;00m\n\u001b[0;32m     34\u001b[0m quantity_text \u001b[38;5;241m=\u001b[39m \u001b[38;5;124m'\u001b[39m\u001b[38;5;124m1½\u001b[39m\u001b[38;5;124m'\u001b[39m\n\u001b[1;32m---> 35\u001b[0m decimal_value \u001b[38;5;241m=\u001b[39m \u001b[43mconvert_mixed_fraction\u001b[49m\u001b[43m(\u001b[49m\u001b[43mquantity_text\u001b[49m\u001b[43m)\u001b[49m\n\u001b[0;32m     37\u001b[0m \u001b[38;5;66;03m# Output the result\u001b[39;00m\n\u001b[0;32m     38\u001b[0m \u001b[38;5;28mprint\u001b[39m(\u001b[38;5;124mf\u001b[39m\u001b[38;5;124m\"\u001b[39m\u001b[38;5;124mMixed Fraction: \u001b[39m\u001b[38;5;132;01m{\u001b[39;00mquantity_text\u001b[38;5;132;01m}\u001b[39;00m\u001b[38;5;124m\"\u001b[39m)\n",
      "Cell \u001b[1;32mIn[75], line 31\u001b[0m, in \u001b[0;36mconvert_mixed_fraction\u001b[1;34m(quantity_text)\u001b[0m\n\u001b[0;32m     28\u001b[0m \u001b[38;5;28;01mif\u001b[39;00m quantity_text \u001b[38;5;129;01min\u001b[39;00m fraction_map:\n\u001b[0;32m     29\u001b[0m     \u001b[38;5;28;01mreturn\u001b[39;00m \u001b[38;5;28mfloat\u001b[39m(Fraction(fraction_map[quantity_text]))\n\u001b[1;32m---> 31\u001b[0m \u001b[38;5;28;01mreturn\u001b[39;00m \u001b[38;5;28;43mfloat\u001b[39;49m\u001b[43m(\u001b[49m\u001b[43mquantity_text\u001b[49m\u001b[43m)\u001b[49m\n",
      "\u001b[1;31mValueError\u001b[0m: could not convert string to float: '1½'"
     ]
    }
   ],
   "source": [
    "from fractions import Fraction\n",
    "\n",
    "def convert_mixed_fraction(quantity_text):\n",
    "    # Define a mapping from fraction symbols to numeric string equivalents\n",
    "    fraction_map = {\n",
    "        '¼': '1/4',\n",
    "        '½': '1/2',\n",
    "        '¾': '3/4',\n",
    "        '⅓': '1/3',\n",
    "        '⅔': '2/3',\n",
    "        '⅕': '1/5',\n",
    "        '⅖': '2/5',\n",
    "        '⅗': '3/5',\n",
    "        '⅘': '4/5'\n",
    "    }\n",
    "    \n",
    "    # Check if the quantity is a mixed fraction (contains a space or a whole number and a fraction)\n",
    "    if ' ' in quantity_text:\n",
    "        integer_part, fraction_part = quantity_text.split(' ')\n",
    "        integer_part = int(integer_part)\n",
    "        fraction_part = fraction_map.get(fraction_part)\n",
    "        \n",
    "        if fraction_part:\n",
    "            fraction = Fraction(fraction_part)\n",
    "            return integer_part + float(fraction)\n",
    "    \n",
    "    # If it's not a mixed fraction, handle it as a normal fraction\n",
    "    if quantity_text in fraction_map:\n",
    "        return float(Fraction(fraction_map[quantity_text]))\n",
    "    \n",
    "    return float(quantity_text)  # If it's a whole number, return it as a float\n",
    "\n",
    "# Test with a mixed fraction\n",
    "quantity_text = '1½'\n",
    "decimal_value = convert_mixed_fraction(quantity_text)\n",
    "\n",
    "# Output the result\n",
    "print(f\"Mixed Fraction: {quantity_text}\")\n",
    "print(f\"Decimal: {decimal_value}\")\n"
   ]
  },
  {
   "cell_type": "code",
   "execution_count": null,
   "metadata": {},
   "outputs": [
    {
     "name": "stdout",
     "output_type": "stream",
     "text": [
      "Parsing sitemap index...\n",
      "Fetching https://preppykitchen.com/post-sitemap.xml...\n",
      "Parsing https://preppykitchen.com/post-sitemap.xml...\n",
      "Fetching https://preppykitchen.com/post-sitemap2.xml...\n",
      "Parsing https://preppykitchen.com/post-sitemap2.xml...\n",
      "Fetching https://preppykitchen.com/page-sitemap.xml...\n",
      "Parsing https://preppykitchen.com/page-sitemap.xml...\n",
      "Fetching https://preppykitchen.com/category-sitemap.xml...\n",
      "Parsing https://preppykitchen.com/category-sitemap.xml...\n",
      "Saving 1256 URLs to 'recipes.txt'...\n",
      "Done!\n"
     ]
    }
   ],
   "source": [
    "# Fetch the sitemap index\n",
    "sitemap_url = \"https://preppykitchen.com/sitemap_index.xml\"\n",
    "\n",
    "\n",
    "sitemap_xml = fetch_sitemap(sitemap_url)\n",
    "\n",
    "\n",
    "if sitemap_xml:\n",
    "        # Parse the sitemap index to get individual sitemap URLs\n",
    "        print(\"Parsing sitemap index...\")\n",
    "        sitemaps = parse_sitemap_index(sitemap_xml)\n",
    "\n",
    "        all_urls = []\n",
    "        for sitemap_url in sitemaps:\n",
    "            print(f\"Fetching {sitemap_url}...\")\n",
    "            sitemap_xml = fetch_sitemap(sitemap_url)\n",
    "            if sitemap_xml:\n",
    "                print(f\"Parsing {sitemap_url}...\")\n",
    "                recipe_urls = parse_sitemap(sitemap_xml)\n",
    "                all_urls.extend(recipe_urls)\n",
    "                \n",
    "                # Save all URLs to a file\n",
    "        print(f\"Saving {len(all_urls)} URLs to 'recipes.txt'...\")\n",
    "        save_urls(all_urls, 'recipes.txt')\n",
    "        print(\"Done!\")\n"
   ]
  },
  {
   "cell_type": "code",
   "execution_count": null,
   "metadata": {},
   "outputs": [
    {
     "name": "stdout",
     "output_type": "stream",
     "text": [
      "Parsing sitemap index...\n",
      "Fetching https://preppykitchen.com/post-sitemap.xml...\n",
      "Parsing https://preppykitchen.com/post-sitemap.xml...\n",
      "Fetching https://preppykitchen.com/post-sitemap2.xml...\n",
      "Parsing https://preppykitchen.com/post-sitemap2.xml...\n",
      "Fetching https://preppykitchen.com/page-sitemap.xml...\n",
      "Parsing https://preppykitchen.com/page-sitemap.xml...\n",
      "Fetching https://preppykitchen.com/category-sitemap.xml...\n",
      "Parsing https://preppykitchen.com/category-sitemap.xml...\n",
      "Saving 1256 URLs to 'recipes.txt'...\n",
      "Done!\n"
     ]
    }
   ],
   "source": [
    "# Fetch the sitemap index\n",
    "sitemap_url = \"https://preppykitchen.com/sitemap_index.xml\"\n",
    "\n",
    "\n",
    "sitemap_xml = fetch_sitemap(sitemap_url)\n",
    "\n",
    "\n",
    "if sitemap_xml:\n",
    "        # Parse the sitemap index to get individual sitemap URLs\n",
    "        print(\"Parsing sitemap index...\")\n",
    "        sitemaps = parse_sitemap_index(sitemap_xml)\n",
    "\n",
    "        all_urls = []\n",
    "        for sitemap_url in sitemaps:\n",
    "            print(f\"Fetching {sitemap_url}...\")\n",
    "            sitemap_xml = fetch_sitemap(sitemap_url)\n",
    "            if sitemap_xml:\n",
    "                print(f\"Parsing {sitemap_url}...\")\n",
    "                recipe_urls = parse_sitemap(sitemap_xml)\n",
    "                all_urls.extend(recipe_urls)\n",
    "                \n",
    "                # Save all URLs to a file\n",
    "        print(f\"Saving {len(all_urls)} URLs to 'recipes.txt'...\")\n",
    "        save_urls(all_urls, 'recipes.txt')\n",
    "        print(\"Done!\")\n"
   ]
  },
  {
   "cell_type": "code",
   "execution_count": null,
   "metadata": {},
   "outputs": [
    {
     "name": "stdout",
     "output_type": "stream",
     "text": [
      "Parsing sitemap index...\n",
      "Fetching https://preppykitchen.com/post-sitemap.xml...\n",
      "Parsing https://preppykitchen.com/post-sitemap.xml...\n",
      "Fetching https://preppykitchen.com/post-sitemap2.xml...\n",
      "Parsing https://preppykitchen.com/post-sitemap2.xml...\n",
      "Fetching https://preppykitchen.com/page-sitemap.xml...\n",
      "Parsing https://preppykitchen.com/page-sitemap.xml...\n",
      "Fetching https://preppykitchen.com/category-sitemap.xml...\n",
      "Parsing https://preppykitchen.com/category-sitemap.xml...\n",
      "Saving 1256 URLs to 'recipes.txt'...\n",
      "Done!\n"
     ]
    }
   ],
   "source": [
    "# Fetch the sitemap index\n",
    "sitemap_url = \"https://preppykitchen.com/sitemap_index.xml\"\n",
    "\n",
    "\n",
    "sitemap_xml = fetch_sitemap(sitemap_url)\n",
    "\n",
    "\n",
    "if sitemap_xml:\n",
    "        # Parse the sitemap index to get individual sitemap URLs\n",
    "        print(\"Parsing sitemap index...\")\n",
    "        sitemaps = parse_sitemap_index(sitemap_xml)\n",
    "\n",
    "        all_urls = []\n",
    "        for sitemap_url in sitemaps:\n",
    "            print(f\"Fetching {sitemap_url}...\")\n",
    "            sitemap_xml = fetch_sitemap(sitemap_url)\n",
    "            if sitemap_xml:\n",
    "                print(f\"Parsing {sitemap_url}...\")\n",
    "                recipe_urls = parse_sitemap(sitemap_xml)\n",
    "                all_urls.extend(recipe_urls)\n",
    "                \n",
    "                # Save all URLs to a file\n",
    "        print(f\"Saving {len(all_urls)} URLs to 'recipes.txt'...\")\n",
    "        save_urls(all_urls, 'recipes.txt')\n",
    "        print(\"Done!\")\n"
   ]
  },
  {
   "cell_type": "code",
   "execution_count": null,
   "metadata": {},
   "outputs": [
    {
     "name": "stdout",
     "output_type": "stream",
     "text": [
      "Parsing sitemap index...\n",
      "Fetching https://preppykitchen.com/post-sitemap.xml...\n",
      "Parsing https://preppykitchen.com/post-sitemap.xml...\n",
      "Fetching https://preppykitchen.com/post-sitemap2.xml...\n",
      "Parsing https://preppykitchen.com/post-sitemap2.xml...\n",
      "Fetching https://preppykitchen.com/page-sitemap.xml...\n",
      "Parsing https://preppykitchen.com/page-sitemap.xml...\n",
      "Fetching https://preppykitchen.com/category-sitemap.xml...\n",
      "Parsing https://preppykitchen.com/category-sitemap.xml...\n",
      "Saving 1256 URLs to 'recipes.txt'...\n",
      "Done!\n"
     ]
    }
   ],
   "source": [
    "# Fetch the sitemap index\n",
    "sitemap_url = \"https://preppykitchen.com/sitemap_index.xml\"\n",
    "\n",
    "\n",
    "sitemap_xml = fetch_sitemap(sitemap_url)\n",
    "\n",
    "\n",
    "if sitemap_xml:\n",
    "        # Parse the sitemap index to get individual sitemap URLs\n",
    "        print(\"Parsing sitemap index...\")\n",
    "        sitemaps = parse_sitemap_index(sitemap_xml)\n",
    "\n",
    "        all_urls = []\n",
    "        for sitemap_url in sitemaps:\n",
    "            print(f\"Fetching {sitemap_url}...\")\n",
    "            sitemap_xml = fetch_sitemap(sitemap_url)\n",
    "            if sitemap_xml:\n",
    "                print(f\"Parsing {sitemap_url}...\")\n",
    "                recipe_urls = parse_sitemap(sitemap_xml)\n",
    "                all_urls.extend(recipe_urls)\n",
    "                \n",
    "                # Save all URLs to a file\n",
    "        print(f\"Saving {len(all_urls)} URLs to 'recipes.txt'...\")\n",
    "        save_urls(all_urls, 'recipes.txt')\n",
    "        print(\"Done!\")\n"
   ]
  },
  {
   "cell_type": "code",
   "execution_count": null,
   "metadata": {},
   "outputs": [
    {
     "name": "stdout",
     "output_type": "stream",
     "text": [
      "Parsing sitemap index...\n",
      "Fetching https://preppykitchen.com/post-sitemap.xml...\n",
      "Parsing https://preppykitchen.com/post-sitemap.xml...\n",
      "Fetching https://preppykitchen.com/post-sitemap2.xml...\n",
      "Parsing https://preppykitchen.com/post-sitemap2.xml...\n",
      "Fetching https://preppykitchen.com/page-sitemap.xml...\n",
      "Parsing https://preppykitchen.com/page-sitemap.xml...\n",
      "Fetching https://preppykitchen.com/category-sitemap.xml...\n",
      "Parsing https://preppykitchen.com/category-sitemap.xml...\n",
      "Saving 1256 URLs to 'recipes.txt'...\n",
      "Done!\n"
     ]
    }
   ],
   "source": [
    "# Fetch the sitemap index\n",
    "sitemap_url = \"https://preppykitchen.com/sitemap_index.xml\"\n",
    "\n",
    "\n",
    "sitemap_xml = fetch_sitemap(sitemap_url)\n",
    "\n",
    "\n",
    "if sitemap_xml:\n",
    "        # Parse the sitemap index to get individual sitemap URLs\n",
    "        print(\"Parsing sitemap index...\")\n",
    "        sitemaps = parse_sitemap_index(sitemap_xml)\n",
    "\n",
    "        all_urls = []\n",
    "        for sitemap_url in sitemaps:\n",
    "            print(f\"Fetching {sitemap_url}...\")\n",
    "            sitemap_xml = fetch_sitemap(sitemap_url)\n",
    "            if sitemap_xml:\n",
    "                print(f\"Parsing {sitemap_url}...\")\n",
    "                recipe_urls = parse_sitemap(sitemap_xml)\n",
    "                all_urls.extend(recipe_urls)\n",
    "                \n",
    "                # Save all URLs to a file\n",
    "        print(f\"Saving {len(all_urls)} URLs to 'recipes.txt'...\")\n",
    "        save_urls(all_urls, 'recipes.txt')\n",
    "        print(\"Done!\")\n"
   ]
  },
  {
   "cell_type": "code",
   "execution_count": null,
   "metadata": {},
   "outputs": [
    {
     "name": "stdout",
     "output_type": "stream",
     "text": [
      "Parsing sitemap index...\n",
      "Fetching https://preppykitchen.com/post-sitemap.xml...\n",
      "Parsing https://preppykitchen.com/post-sitemap.xml...\n",
      "Fetching https://preppykitchen.com/post-sitemap2.xml...\n",
      "Parsing https://preppykitchen.com/post-sitemap2.xml...\n",
      "Fetching https://preppykitchen.com/page-sitemap.xml...\n",
      "Parsing https://preppykitchen.com/page-sitemap.xml...\n",
      "Fetching https://preppykitchen.com/category-sitemap.xml...\n",
      "Parsing https://preppykitchen.com/category-sitemap.xml...\n",
      "Saving 1256 URLs to 'recipes.txt'...\n",
      "Done!\n"
     ]
    }
   ],
   "source": [
    "# Fetch the sitemap index\n",
    "sitemap_url = \"https://preppykitchen.com/sitemap_index.xml\"\n",
    "\n",
    "\n",
    "sitemap_xml = fetch_sitemap(sitemap_url)\n",
    "\n",
    "\n",
    "if sitemap_xml:\n",
    "        # Parse the sitemap index to get individual sitemap URLs\n",
    "        print(\"Parsing sitemap index...\")\n",
    "        sitemaps = parse_sitemap_index(sitemap_xml)\n",
    "\n",
    "        all_urls = []\n",
    "        for sitemap_url in sitemaps:\n",
    "            print(f\"Fetching {sitemap_url}...\")\n",
    "            sitemap_xml = fetch_sitemap(sitemap_url)\n",
    "            if sitemap_xml:\n",
    "                print(f\"Parsing {sitemap_url}...\")\n",
    "                recipe_urls = parse_sitemap(sitemap_xml)\n",
    "                all_urls.extend(recipe_urls)\n",
    "                \n",
    "                # Save all URLs to a file\n",
    "        print(f\"Saving {len(all_urls)} URLs to 'recipes.txt'...\")\n",
    "        save_urls(all_urls, 'recipes.txt')\n",
    "        print(\"Done!\")\n"
   ]
  },
  {
   "cell_type": "code",
   "execution_count": null,
   "metadata": {},
   "outputs": [
    {
     "name": "stdout",
     "output_type": "stream",
     "text": [
      "Parsing sitemap index...\n",
      "Fetching https://preppykitchen.com/post-sitemap.xml...\n",
      "Parsing https://preppykitchen.com/post-sitemap.xml...\n",
      "Fetching https://preppykitchen.com/post-sitemap2.xml...\n",
      "Parsing https://preppykitchen.com/post-sitemap2.xml...\n",
      "Fetching https://preppykitchen.com/page-sitemap.xml...\n",
      "Parsing https://preppykitchen.com/page-sitemap.xml...\n",
      "Fetching https://preppykitchen.com/category-sitemap.xml...\n",
      "Parsing https://preppykitchen.com/category-sitemap.xml...\n",
      "Saving 1256 URLs to 'recipes.txt'...\n",
      "Done!\n"
     ]
    }
   ],
   "source": [
    "# Fetch the sitemap index\n",
    "sitemap_url = \"https://preppykitchen.com/sitemap_index.xml\"\n",
    "\n",
    "\n",
    "sitemap_xml = fetch_sitemap(sitemap_url)\n",
    "\n",
    "\n",
    "if sitemap_xml:\n",
    "        # Parse the sitemap index to get individual sitemap URLs\n",
    "        print(\"Parsing sitemap index...\")\n",
    "        sitemaps = parse_sitemap_index(sitemap_xml)\n",
    "\n",
    "        all_urls = []\n",
    "        for sitemap_url in sitemaps:\n",
    "            print(f\"Fetching {sitemap_url}...\")\n",
    "            sitemap_xml = fetch_sitemap(sitemap_url)\n",
    "            if sitemap_xml:\n",
    "                print(f\"Parsing {sitemap_url}...\")\n",
    "                recipe_urls = parse_sitemap(sitemap_xml)\n",
    "                all_urls.extend(recipe_urls)\n",
    "                \n",
    "                # Save all URLs to a file\n",
    "        print(f\"Saving {len(all_urls)} URLs to 'recipes.txt'...\")\n",
    "        save_urls(all_urls, 'recipes.txt')\n",
    "        print(\"Done!\")\n"
   ]
  },
  {
   "cell_type": "code",
   "execution_count": null,
   "metadata": {},
   "outputs": [
    {
     "name": "stdout",
     "output_type": "stream",
     "text": [
      "Parsing sitemap index...\n",
      "Fetching https://preppykitchen.com/post-sitemap.xml...\n",
      "Parsing https://preppykitchen.com/post-sitemap.xml...\n",
      "Fetching https://preppykitchen.com/post-sitemap2.xml...\n",
      "Parsing https://preppykitchen.com/post-sitemap2.xml...\n",
      "Fetching https://preppykitchen.com/page-sitemap.xml...\n",
      "Parsing https://preppykitchen.com/page-sitemap.xml...\n",
      "Fetching https://preppykitchen.com/category-sitemap.xml...\n",
      "Parsing https://preppykitchen.com/category-sitemap.xml...\n",
      "Saving 1256 URLs to 'recipes.txt'...\n",
      "Done!\n"
     ]
    }
   ],
   "source": [
    "# Fetch the sitemap index\n",
    "sitemap_url = \"https://preppykitchen.com/sitemap_index.xml\"\n",
    "\n",
    "\n",
    "sitemap_xml = fetch_sitemap(sitemap_url)\n",
    "\n",
    "\n",
    "if sitemap_xml:\n",
    "        # Parse the sitemap index to get individual sitemap URLs\n",
    "        print(\"Parsing sitemap index...\")\n",
    "        sitemaps = parse_sitemap_index(sitemap_xml)\n",
    "\n",
    "        all_urls = []\n",
    "        for sitemap_url in sitemaps:\n",
    "            print(f\"Fetching {sitemap_url}...\")\n",
    "            sitemap_xml = fetch_sitemap(sitemap_url)\n",
    "            if sitemap_xml:\n",
    "                print(f\"Parsing {sitemap_url}...\")\n",
    "                recipe_urls = parse_sitemap(sitemap_xml)\n",
    "                all_urls.extend(recipe_urls)\n",
    "                \n",
    "                # Save all URLs to a file\n",
    "        print(f\"Saving {len(all_urls)} URLs to 'recipes.txt'...\")\n",
    "        save_urls(all_urls, 'recipes.txt')\n",
    "        print(\"Done!\")\n"
   ]
  },
  {
   "cell_type": "code",
   "execution_count": null,
   "metadata": {},
   "outputs": [
    {
     "name": "stdout",
     "output_type": "stream",
     "text": [
      "Parsing sitemap index...\n",
      "Fetching https://preppykitchen.com/post-sitemap.xml...\n",
      "Parsing https://preppykitchen.com/post-sitemap.xml...\n",
      "Fetching https://preppykitchen.com/post-sitemap2.xml...\n",
      "Parsing https://preppykitchen.com/post-sitemap2.xml...\n",
      "Fetching https://preppykitchen.com/page-sitemap.xml...\n",
      "Parsing https://preppykitchen.com/page-sitemap.xml...\n",
      "Fetching https://preppykitchen.com/category-sitemap.xml...\n",
      "Parsing https://preppykitchen.com/category-sitemap.xml...\n",
      "Saving 1256 URLs to 'recipes.txt'...\n",
      "Done!\n"
     ]
    }
   ],
   "source": [
    "# Fetch the sitemap index\n",
    "sitemap_url = \"https://preppykitchen.com/sitemap_index.xml\"\n",
    "\n",
    "\n",
    "sitemap_xml = fetch_sitemap(sitemap_url)\n",
    "\n",
    "\n",
    "if sitemap_xml:\n",
    "        # Parse the sitemap index to get individual sitemap URLs\n",
    "        print(\"Parsing sitemap index...\")\n",
    "        sitemaps = parse_sitemap_index(sitemap_xml)\n",
    "\n",
    "        all_urls = []\n",
    "        for sitemap_url in sitemaps:\n",
    "            print(f\"Fetching {sitemap_url}...\")\n",
    "            sitemap_xml = fetch_sitemap(sitemap_url)\n",
    "            if sitemap_xml:\n",
    "                print(f\"Parsing {sitemap_url}...\")\n",
    "                recipe_urls = parse_sitemap(sitemap_xml)\n",
    "                all_urls.extend(recipe_urls)\n",
    "                \n",
    "                # Save all URLs to a file\n",
    "        print(f\"Saving {len(all_urls)} URLs to 'recipes.txt'...\")\n",
    "        save_urls(all_urls, 'recipes.txt')\n",
    "        print(\"Done!\")\n"
   ]
  },
  {
   "cell_type": "code",
   "execution_count": null,
   "metadata": {},
   "outputs": [
    {
     "name": "stdout",
     "output_type": "stream",
     "text": [
      "Parsing sitemap index...\n",
      "Fetching https://preppykitchen.com/post-sitemap.xml...\n",
      "Parsing https://preppykitchen.com/post-sitemap.xml...\n",
      "Fetching https://preppykitchen.com/post-sitemap2.xml...\n",
      "Parsing https://preppykitchen.com/post-sitemap2.xml...\n",
      "Fetching https://preppykitchen.com/page-sitemap.xml...\n",
      "Parsing https://preppykitchen.com/page-sitemap.xml...\n",
      "Fetching https://preppykitchen.com/category-sitemap.xml...\n",
      "Parsing https://preppykitchen.com/category-sitemap.xml...\n",
      "Saving 1256 URLs to 'recipes.txt'...\n",
      "Done!\n"
     ]
    }
   ],
   "source": [
    "# Fetch the sitemap index\n",
    "sitemap_url = \"https://preppykitchen.com/sitemap_index.xml\"\n",
    "\n",
    "\n",
    "sitemap_xml = fetch_sitemap(sitemap_url)\n",
    "\n",
    "\n",
    "if sitemap_xml:\n",
    "        # Parse the sitemap index to get individual sitemap URLs\n",
    "        print(\"Parsing sitemap index...\")\n",
    "        sitemaps = parse_sitemap_index(sitemap_xml)\n",
    "\n",
    "        all_urls = []\n",
    "        for sitemap_url in sitemaps:\n",
    "            print(f\"Fetching {sitemap_url}...\")\n",
    "            sitemap_xml = fetch_sitemap(sitemap_url)\n",
    "            if sitemap_xml:\n",
    "                print(f\"Parsing {sitemap_url}...\")\n",
    "                recipe_urls = parse_sitemap(sitemap_xml)\n",
    "                all_urls.extend(recipe_urls)\n",
    "                \n",
    "                # Save all URLs to a file\n",
    "        print(f\"Saving {len(all_urls)} URLs to 'recipes.txt'...\")\n",
    "        save_urls(all_urls, 'recipes.txt')\n",
    "        print(\"Done!\")\n"
   ]
  },
  {
   "cell_type": "code",
   "execution_count": null,
   "metadata": {},
   "outputs": [
    {
     "name": "stdout",
     "output_type": "stream",
     "text": [
      "Parsing sitemap index...\n",
      "Fetching https://preppykitchen.com/post-sitemap.xml...\n",
      "Parsing https://preppykitchen.com/post-sitemap.xml...\n",
      "Fetching https://preppykitchen.com/post-sitemap2.xml...\n",
      "Parsing https://preppykitchen.com/post-sitemap2.xml...\n",
      "Fetching https://preppykitchen.com/page-sitemap.xml...\n",
      "Parsing https://preppykitchen.com/page-sitemap.xml...\n",
      "Fetching https://preppykitchen.com/category-sitemap.xml...\n",
      "Parsing https://preppykitchen.com/category-sitemap.xml...\n",
      "Saving 1256 URLs to 'recipes.txt'...\n",
      "Done!\n"
     ]
    }
   ],
   "source": [
    "# Fetch the sitemap index\n",
    "sitemap_url = \"https://preppykitchen.com/sitemap_index.xml\"\n",
    "\n",
    "\n",
    "sitemap_xml = fetch_sitemap(sitemap_url)\n",
    "\n",
    "\n",
    "if sitemap_xml:\n",
    "        # Parse the sitemap index to get individual sitemap URLs\n",
    "        print(\"Parsing sitemap index...\")\n",
    "        sitemaps = parse_sitemap_index(sitemap_xml)\n",
    "\n",
    "        all_urls = []\n",
    "        for sitemap_url in sitemaps:\n",
    "            print(f\"Fetching {sitemap_url}...\")\n",
    "            sitemap_xml = fetch_sitemap(sitemap_url)\n",
    "            if sitemap_xml:\n",
    "                print(f\"Parsing {sitemap_url}...\")\n",
    "                recipe_urls = parse_sitemap(sitemap_xml)\n",
    "                all_urls.extend(recipe_urls)\n",
    "                \n",
    "                # Save all URLs to a file\n",
    "        print(f\"Saving {len(all_urls)} URLs to 'recipes.txt'...\")\n",
    "        save_urls(all_urls, 'recipes.txt')\n",
    "        print(\"Done!\")\n"
   ]
  },
  {
   "cell_type": "code",
   "execution_count": null,
   "metadata": {},
   "outputs": [
    {
     "name": "stdout",
     "output_type": "stream",
     "text": [
      "Parsing sitemap index...\n",
      "Fetching https://preppykitchen.com/post-sitemap.xml...\n",
      "Parsing https://preppykitchen.com/post-sitemap.xml...\n",
      "Fetching https://preppykitchen.com/post-sitemap2.xml...\n",
      "Parsing https://preppykitchen.com/post-sitemap2.xml...\n",
      "Fetching https://preppykitchen.com/page-sitemap.xml...\n",
      "Parsing https://preppykitchen.com/page-sitemap.xml...\n",
      "Fetching https://preppykitchen.com/category-sitemap.xml...\n",
      "Parsing https://preppykitchen.com/category-sitemap.xml...\n",
      "Saving 1256 URLs to 'recipes.txt'...\n",
      "Done!\n"
     ]
    }
   ],
   "source": [
    "# Fetch the sitemap index\n",
    "sitemap_url = \"https://preppykitchen.com/sitemap_index.xml\"\n",
    "\n",
    "\n",
    "sitemap_xml = fetch_sitemap(sitemap_url)\n",
    "\n",
    "\n",
    "if sitemap_xml:\n",
    "        # Parse the sitemap index to get individual sitemap URLs\n",
    "        print(\"Parsing sitemap index...\")\n",
    "        sitemaps = parse_sitemap_index(sitemap_xml)\n",
    "\n",
    "        all_urls = []\n",
    "        for sitemap_url in sitemaps:\n",
    "            print(f\"Fetching {sitemap_url}...\")\n",
    "            sitemap_xml = fetch_sitemap(sitemap_url)\n",
    "            if sitemap_xml:\n",
    "                print(f\"Parsing {sitemap_url}...\")\n",
    "                recipe_urls = parse_sitemap(sitemap_xml)\n",
    "                all_urls.extend(recipe_urls)\n",
    "                \n",
    "                # Save all URLs to a file\n",
    "        print(f\"Saving {len(all_urls)} URLs to 'recipes.txt'...\")\n",
    "        save_urls(all_urls, 'recipes.txt')\n",
    "        print(\"Done!\")\n"
   ]
  },
  {
   "cell_type": "code",
   "execution_count": null,
   "metadata": {},
   "outputs": [
    {
     "name": "stdout",
     "output_type": "stream",
     "text": [
      "Parsing sitemap index...\n",
      "Fetching https://preppykitchen.com/post-sitemap.xml...\n",
      "Parsing https://preppykitchen.com/post-sitemap.xml...\n",
      "Fetching https://preppykitchen.com/post-sitemap2.xml...\n",
      "Parsing https://preppykitchen.com/post-sitemap2.xml...\n",
      "Fetching https://preppykitchen.com/page-sitemap.xml...\n",
      "Parsing https://preppykitchen.com/page-sitemap.xml...\n",
      "Fetching https://preppykitchen.com/category-sitemap.xml...\n",
      "Parsing https://preppykitchen.com/category-sitemap.xml...\n",
      "Saving 1256 URLs to 'recipes.txt'...\n",
      "Done!\n"
     ]
    }
   ],
   "source": [
    "# Fetch the sitemap index\n",
    "sitemap_url = \"https://preppykitchen.com/sitemap_index.xml\"\n",
    "\n",
    "\n",
    "sitemap_xml = fetch_sitemap(sitemap_url)\n",
    "\n",
    "\n",
    "if sitemap_xml:\n",
    "        # Parse the sitemap index to get individual sitemap URLs\n",
    "        print(\"Parsing sitemap index...\")\n",
    "        sitemaps = parse_sitemap_index(sitemap_xml)\n",
    "\n",
    "        all_urls = []\n",
    "        for sitemap_url in sitemaps:\n",
    "            print(f\"Fetching {sitemap_url}...\")\n",
    "            sitemap_xml = fetch_sitemap(sitemap_url)\n",
    "            if sitemap_xml:\n",
    "                print(f\"Parsing {sitemap_url}...\")\n",
    "                recipe_urls = parse_sitemap(sitemap_xml)\n",
    "                all_urls.extend(recipe_urls)\n",
    "                \n",
    "                # Save all URLs to a file\n",
    "        print(f\"Saving {len(all_urls)} URLs to 'recipes.txt'...\")\n",
    "        save_urls(all_urls, 'recipes.txt')\n",
    "        print(\"Done!\")\n"
   ]
  },
  {
   "cell_type": "code",
   "execution_count": null,
   "metadata": {},
   "outputs": [
    {
     "name": "stdout",
     "output_type": "stream",
     "text": [
      "Parsing sitemap index...\n",
      "Fetching https://preppykitchen.com/post-sitemap.xml...\n",
      "Parsing https://preppykitchen.com/post-sitemap.xml...\n",
      "Fetching https://preppykitchen.com/post-sitemap2.xml...\n",
      "Parsing https://preppykitchen.com/post-sitemap2.xml...\n",
      "Fetching https://preppykitchen.com/page-sitemap.xml...\n",
      "Parsing https://preppykitchen.com/page-sitemap.xml...\n",
      "Fetching https://preppykitchen.com/category-sitemap.xml...\n",
      "Parsing https://preppykitchen.com/category-sitemap.xml...\n",
      "Saving 1256 URLs to 'recipes.txt'...\n",
      "Done!\n"
     ]
    }
   ],
   "source": [
    "# Fetch the sitemap index\n",
    "sitemap_url = \"https://preppykitchen.com/sitemap_index.xml\"\n",
    "\n",
    "\n",
    "sitemap_xml = fetch_sitemap(sitemap_url)\n",
    "\n",
    "\n",
    "if sitemap_xml:\n",
    "        # Parse the sitemap index to get individual sitemap URLs\n",
    "        print(\"Parsing sitemap index...\")\n",
    "        sitemaps = parse_sitemap_index(sitemap_xml)\n",
    "\n",
    "        all_urls = []\n",
    "        for sitemap_url in sitemaps:\n",
    "            print(f\"Fetching {sitemap_url}...\")\n",
    "            sitemap_xml = fetch_sitemap(sitemap_url)\n",
    "            if sitemap_xml:\n",
    "                print(f\"Parsing {sitemap_url}...\")\n",
    "                recipe_urls = parse_sitemap(sitemap_xml)\n",
    "                all_urls.extend(recipe_urls)\n",
    "                \n",
    "                # Save all URLs to a file\n",
    "        print(f\"Saving {len(all_urls)} URLs to 'recipes.txt'...\")\n",
    "        save_urls(all_urls, 'recipes.txt')\n",
    "        print(\"Done!\")\n"
   ]
  },
  {
   "cell_type": "code",
   "execution_count": null,
   "metadata": {},
   "outputs": [
    {
     "name": "stdout",
     "output_type": "stream",
     "text": [
      "Parsing sitemap index...\n",
      "Fetching https://preppykitchen.com/post-sitemap.xml...\n",
      "Parsing https://preppykitchen.com/post-sitemap.xml...\n",
      "Fetching https://preppykitchen.com/post-sitemap2.xml...\n",
      "Parsing https://preppykitchen.com/post-sitemap2.xml...\n",
      "Fetching https://preppykitchen.com/page-sitemap.xml...\n",
      "Parsing https://preppykitchen.com/page-sitemap.xml...\n",
      "Fetching https://preppykitchen.com/category-sitemap.xml...\n",
      "Parsing https://preppykitchen.com/category-sitemap.xml...\n",
      "Saving 1256 URLs to 'recipes.txt'...\n",
      "Done!\n"
     ]
    }
   ],
   "source": [
    "# Fetch the sitemap index\n",
    "sitemap_url = \"https://preppykitchen.com/sitemap_index.xml\"\n",
    "\n",
    "\n",
    "sitemap_xml = fetch_sitemap(sitemap_url)\n",
    "\n",
    "\n",
    "if sitemap_xml:\n",
    "        # Parse the sitemap index to get individual sitemap URLs\n",
    "        print(\"Parsing sitemap index...\")\n",
    "        sitemaps = parse_sitemap_index(sitemap_xml)\n",
    "\n",
    "        all_urls = []\n",
    "        for sitemap_url in sitemaps:\n",
    "            print(f\"Fetching {sitemap_url}...\")\n",
    "            sitemap_xml = fetch_sitemap(sitemap_url)\n",
    "            if sitemap_xml:\n",
    "                print(f\"Parsing {sitemap_url}...\")\n",
    "                recipe_urls = parse_sitemap(sitemap_xml)\n",
    "                all_urls.extend(recipe_urls)\n",
    "                \n",
    "                # Save all URLs to a file\n",
    "        print(f\"Saving {len(all_urls)} URLs to 'recipes.txt'...\")\n",
    "        save_urls(all_urls, 'recipes.txt')\n",
    "        print(\"Done!\")\n"
   ]
  },
  {
   "cell_type": "code",
   "execution_count": null,
   "metadata": {},
   "outputs": [
    {
     "name": "stdout",
     "output_type": "stream",
     "text": [
      "Parsing sitemap index...\n",
      "Fetching https://preppykitchen.com/post-sitemap.xml...\n",
      "Parsing https://preppykitchen.com/post-sitemap.xml...\n",
      "Fetching https://preppykitchen.com/post-sitemap2.xml...\n",
      "Parsing https://preppykitchen.com/post-sitemap2.xml...\n",
      "Fetching https://preppykitchen.com/page-sitemap.xml...\n",
      "Parsing https://preppykitchen.com/page-sitemap.xml...\n",
      "Fetching https://preppykitchen.com/category-sitemap.xml...\n",
      "Parsing https://preppykitchen.com/category-sitemap.xml...\n",
      "Saving 1256 URLs to 'recipes.txt'...\n",
      "Done!\n"
     ]
    }
   ],
   "source": [
    "# Fetch the sitemap index\n",
    "sitemap_url = \"https://preppykitchen.com/sitemap_index.xml\"\n",
    "\n",
    "\n",
    "sitemap_xml = fetch_sitemap(sitemap_url)\n",
    "\n",
    "\n",
    "if sitemap_xml:\n",
    "        # Parse the sitemap index to get individual sitemap URLs\n",
    "        print(\"Parsing sitemap index...\")\n",
    "        sitemaps = parse_sitemap_index(sitemap_xml)\n",
    "\n",
    "        all_urls = []\n",
    "        for sitemap_url in sitemaps:\n",
    "            print(f\"Fetching {sitemap_url}...\")\n",
    "            sitemap_xml = fetch_sitemap(sitemap_url)\n",
    "            if sitemap_xml:\n",
    "                print(f\"Parsing {sitemap_url}...\")\n",
    "                recipe_urls = parse_sitemap(sitemap_xml)\n",
    "                all_urls.extend(recipe_urls)\n",
    "                \n",
    "                # Save all URLs to a file\n",
    "        print(f\"Saving {len(all_urls)} URLs to 'recipes.txt'...\")\n",
    "        save_urls(all_urls, 'recipes.txt')\n",
    "        print(\"Done!\")\n"
   ]
  },
  {
   "cell_type": "code",
   "execution_count": null,
   "metadata": {},
   "outputs": [
    {
     "name": "stdout",
     "output_type": "stream",
     "text": [
      "Parsing sitemap index...\n",
      "Fetching https://preppykitchen.com/post-sitemap.xml...\n",
      "Parsing https://preppykitchen.com/post-sitemap.xml...\n",
      "Fetching https://preppykitchen.com/post-sitemap2.xml...\n",
      "Parsing https://preppykitchen.com/post-sitemap2.xml...\n",
      "Fetching https://preppykitchen.com/page-sitemap.xml...\n",
      "Parsing https://preppykitchen.com/page-sitemap.xml...\n",
      "Fetching https://preppykitchen.com/category-sitemap.xml...\n",
      "Parsing https://preppykitchen.com/category-sitemap.xml...\n",
      "Saving 1256 URLs to 'recipes.txt'...\n",
      "Done!\n"
     ]
    }
   ],
   "source": [
    "# Fetch the sitemap index\n",
    "sitemap_url = \"https://preppykitchen.com/sitemap_index.xml\"\n",
    "\n",
    "\n",
    "sitemap_xml = fetch_sitemap(sitemap_url)\n",
    "\n",
    "\n",
    "if sitemap_xml:\n",
    "        # Parse the sitemap index to get individual sitemap URLs\n",
    "        print(\"Parsing sitemap index...\")\n",
    "        sitemaps = parse_sitemap_index(sitemap_xml)\n",
    "\n",
    "        all_urls = []\n",
    "        for sitemap_url in sitemaps:\n",
    "            print(f\"Fetching {sitemap_url}...\")\n",
    "            sitemap_xml = fetch_sitemap(sitemap_url)\n",
    "            if sitemap_xml:\n",
    "                print(f\"Parsing {sitemap_url}...\")\n",
    "                recipe_urls = parse_sitemap(sitemap_xml)\n",
    "                all_urls.extend(recipe_urls)\n",
    "                \n",
    "                # Save all URLs to a file\n",
    "        print(f\"Saving {len(all_urls)} URLs to 'recipes.txt'...\")\n",
    "        save_urls(all_urls, 'recipes.txt')\n",
    "        print(\"Done!\")\n"
   ]
  },
  {
   "cell_type": "code",
   "execution_count": null,
   "metadata": {},
   "outputs": [
    {
     "name": "stdout",
     "output_type": "stream",
     "text": [
      "Parsing sitemap index...\n",
      "Fetching https://preppykitchen.com/post-sitemap.xml...\n",
      "Parsing https://preppykitchen.com/post-sitemap.xml...\n",
      "Fetching https://preppykitchen.com/post-sitemap2.xml...\n",
      "Parsing https://preppykitchen.com/post-sitemap2.xml...\n",
      "Fetching https://preppykitchen.com/page-sitemap.xml...\n",
      "Parsing https://preppykitchen.com/page-sitemap.xml...\n",
      "Fetching https://preppykitchen.com/category-sitemap.xml...\n",
      "Parsing https://preppykitchen.com/category-sitemap.xml...\n",
      "Saving 1256 URLs to 'recipes.txt'...\n",
      "Done!\n"
     ]
    }
   ],
   "source": [
    "# Fetch the sitemap index\n",
    "sitemap_url = \"https://preppykitchen.com/sitemap_index.xml\"\n",
    "\n",
    "\n",
    "sitemap_xml = fetch_sitemap(sitemap_url)\n",
    "\n",
    "\n",
    "if sitemap_xml:\n",
    "        # Parse the sitemap index to get individual sitemap URLs\n",
    "        print(\"Parsing sitemap index...\")\n",
    "        sitemaps = parse_sitemap_index(sitemap_xml)\n",
    "\n",
    "        all_urls = []\n",
    "        for sitemap_url in sitemaps:\n",
    "            print(f\"Fetching {sitemap_url}...\")\n",
    "            sitemap_xml = fetch_sitemap(sitemap_url)\n",
    "            if sitemap_xml:\n",
    "                print(f\"Parsing {sitemap_url}...\")\n",
    "                recipe_urls = parse_sitemap(sitemap_xml)\n",
    "                all_urls.extend(recipe_urls)\n",
    "                \n",
    "                # Save all URLs to a file\n",
    "        print(f\"Saving {len(all_urls)} URLs to 'recipes.txt'...\")\n",
    "        save_urls(all_urls, 'recipes.txt')\n",
    "        print(\"Done!\")\n"
   ]
  },
  {
   "cell_type": "code",
   "execution_count": null,
   "metadata": {},
   "outputs": [
    {
     "name": "stdout",
     "output_type": "stream",
     "text": [
      "Parsing sitemap index...\n",
      "Fetching https://preppykitchen.com/post-sitemap.xml...\n",
      "Parsing https://preppykitchen.com/post-sitemap.xml...\n",
      "Fetching https://preppykitchen.com/post-sitemap2.xml...\n",
      "Parsing https://preppykitchen.com/post-sitemap2.xml...\n",
      "Fetching https://preppykitchen.com/page-sitemap.xml...\n",
      "Parsing https://preppykitchen.com/page-sitemap.xml...\n",
      "Fetching https://preppykitchen.com/category-sitemap.xml...\n",
      "Parsing https://preppykitchen.com/category-sitemap.xml...\n",
      "Saving 1256 URLs to 'recipes.txt'...\n",
      "Done!\n"
     ]
    }
   ],
   "source": [
    "# Fetch the sitemap index\n",
    "sitemap_url = \"https://preppykitchen.com/sitemap_index.xml\"\n",
    "\n",
    "\n",
    "sitemap_xml = fetch_sitemap(sitemap_url)\n",
    "\n",
    "\n",
    "if sitemap_xml:\n",
    "        # Parse the sitemap index to get individual sitemap URLs\n",
    "        print(\"Parsing sitemap index...\")\n",
    "        sitemaps = parse_sitemap_index(sitemap_xml)\n",
    "\n",
    "        all_urls = []\n",
    "        for sitemap_url in sitemaps:\n",
    "            print(f\"Fetching {sitemap_url}...\")\n",
    "            sitemap_xml = fetch_sitemap(sitemap_url)\n",
    "            if sitemap_xml:\n",
    "                print(f\"Parsing {sitemap_url}...\")\n",
    "                recipe_urls = parse_sitemap(sitemap_xml)\n",
    "                all_urls.extend(recipe_urls)\n",
    "                \n",
    "                # Save all URLs to a file\n",
    "        print(f\"Saving {len(all_urls)} URLs to 'recipes.txt'...\")\n",
    "        save_urls(all_urls, 'recipes.txt')\n",
    "        print(\"Done!\")\n"
   ]
  },
  {
   "cell_type": "code",
   "execution_count": null,
   "metadata": {},
   "outputs": [
    {
     "name": "stdout",
     "output_type": "stream",
     "text": [
      "Parsing sitemap index...\n",
      "Fetching https://preppykitchen.com/post-sitemap.xml...\n",
      "Parsing https://preppykitchen.com/post-sitemap.xml...\n",
      "Fetching https://preppykitchen.com/post-sitemap2.xml...\n",
      "Parsing https://preppykitchen.com/post-sitemap2.xml...\n",
      "Fetching https://preppykitchen.com/page-sitemap.xml...\n",
      "Parsing https://preppykitchen.com/page-sitemap.xml...\n",
      "Fetching https://preppykitchen.com/category-sitemap.xml...\n",
      "Parsing https://preppykitchen.com/category-sitemap.xml...\n",
      "Saving 1256 URLs to 'recipes.txt'...\n",
      "Done!\n"
     ]
    }
   ],
   "source": [
    "# Fetch the sitemap index\n",
    "sitemap_url = \"https://preppykitchen.com/sitemap_index.xml\"\n",
    "\n",
    "\n",
    "sitemap_xml = fetch_sitemap(sitemap_url)\n",
    "\n",
    "\n",
    "if sitemap_xml:\n",
    "        # Parse the sitemap index to get individual sitemap URLs\n",
    "        print(\"Parsing sitemap index...\")\n",
    "        sitemaps = parse_sitemap_index(sitemap_xml)\n",
    "\n",
    "        all_urls = []\n",
    "        for sitemap_url in sitemaps:\n",
    "            print(f\"Fetching {sitemap_url}...\")\n",
    "            sitemap_xml = fetch_sitemap(sitemap_url)\n",
    "            if sitemap_xml:\n",
    "                print(f\"Parsing {sitemap_url}...\")\n",
    "                recipe_urls = parse_sitemap(sitemap_xml)\n",
    "                all_urls.extend(recipe_urls)\n",
    "                \n",
    "                # Save all URLs to a file\n",
    "        print(f\"Saving {len(all_urls)} URLs to 'recipes.txt'...\")\n",
    "        save_urls(all_urls, 'recipes.txt')\n",
    "        print(\"Done!\")\n"
   ]
  },
  {
   "cell_type": "code",
   "execution_count": null,
   "metadata": {},
   "outputs": [
    {
     "name": "stdout",
     "output_type": "stream",
     "text": [
      "Parsing sitemap index...\n",
      "Fetching https://preppykitchen.com/post-sitemap.xml...\n",
      "Parsing https://preppykitchen.com/post-sitemap.xml...\n",
      "Fetching https://preppykitchen.com/post-sitemap2.xml...\n",
      "Parsing https://preppykitchen.com/post-sitemap2.xml...\n",
      "Fetching https://preppykitchen.com/page-sitemap.xml...\n",
      "Parsing https://preppykitchen.com/page-sitemap.xml...\n",
      "Fetching https://preppykitchen.com/category-sitemap.xml...\n",
      "Parsing https://preppykitchen.com/category-sitemap.xml...\n",
      "Saving 1256 URLs to 'recipes.txt'...\n",
      "Done!\n"
     ]
    }
   ],
   "source": [
    "# Fetch the sitemap index\n",
    "sitemap_url = \"https://preppykitchen.com/sitemap_index.xml\"\n",
    "\n",
    "\n",
    "sitemap_xml = fetch_sitemap(sitemap_url)\n",
    "\n",
    "\n",
    "if sitemap_xml:\n",
    "        # Parse the sitemap index to get individual sitemap URLs\n",
    "        print(\"Parsing sitemap index...\")\n",
    "        sitemaps = parse_sitemap_index(sitemap_xml)\n",
    "\n",
    "        all_urls = []\n",
    "        for sitemap_url in sitemaps:\n",
    "            print(f\"Fetching {sitemap_url}...\")\n",
    "            sitemap_xml = fetch_sitemap(sitemap_url)\n",
    "            if sitemap_xml:\n",
    "                print(f\"Parsing {sitemap_url}...\")\n",
    "                recipe_urls = parse_sitemap(sitemap_xml)\n",
    "                all_urls.extend(recipe_urls)\n",
    "                \n",
    "                # Save all URLs to a file\n",
    "        print(f\"Saving {len(all_urls)} URLs to 'recipes.txt'...\")\n",
    "        save_urls(all_urls, 'recipes.txt')\n",
    "        print(\"Done!\")\n"
   ]
  },
  {
   "cell_type": "code",
   "execution_count": null,
   "metadata": {},
   "outputs": [
    {
     "name": "stdout",
     "output_type": "stream",
     "text": [
      "Parsing sitemap index...\n",
      "Fetching https://preppykitchen.com/post-sitemap.xml...\n",
      "Parsing https://preppykitchen.com/post-sitemap.xml...\n",
      "Fetching https://preppykitchen.com/post-sitemap2.xml...\n",
      "Parsing https://preppykitchen.com/post-sitemap2.xml...\n",
      "Fetching https://preppykitchen.com/page-sitemap.xml...\n",
      "Parsing https://preppykitchen.com/page-sitemap.xml...\n",
      "Fetching https://preppykitchen.com/category-sitemap.xml...\n",
      "Parsing https://preppykitchen.com/category-sitemap.xml...\n",
      "Saving 1256 URLs to 'recipes.txt'...\n",
      "Done!\n"
     ]
    }
   ],
   "source": [
    "# Fetch the sitemap index\n",
    "sitemap_url = \"https://preppykitchen.com/sitemap_index.xml\"\n",
    "\n",
    "\n",
    "sitemap_xml = fetch_sitemap(sitemap_url)\n",
    "\n",
    "\n",
    "if sitemap_xml:\n",
    "        # Parse the sitemap index to get individual sitemap URLs\n",
    "        print(\"Parsing sitemap index...\")\n",
    "        sitemaps = parse_sitemap_index(sitemap_xml)\n",
    "\n",
    "        all_urls = []\n",
    "        for sitemap_url in sitemaps:\n",
    "            print(f\"Fetching {sitemap_url}...\")\n",
    "            sitemap_xml = fetch_sitemap(sitemap_url)\n",
    "            if sitemap_xml:\n",
    "                print(f\"Parsing {sitemap_url}...\")\n",
    "                recipe_urls = parse_sitemap(sitemap_xml)\n",
    "                all_urls.extend(recipe_urls)\n",
    "                \n",
    "                # Save all URLs to a file\n",
    "        print(f\"Saving {len(all_urls)} URLs to 'recipes.txt'...\")\n",
    "        save_urls(all_urls, 'recipes.txt')\n",
    "        print(\"Done!\")\n"
   ]
  },
  {
   "cell_type": "code",
   "execution_count": null,
   "metadata": {},
   "outputs": [
    {
     "name": "stdout",
     "output_type": "stream",
     "text": [
      "Parsing sitemap index...\n",
      "Fetching https://preppykitchen.com/post-sitemap.xml...\n",
      "Parsing https://preppykitchen.com/post-sitemap.xml...\n",
      "Fetching https://preppykitchen.com/post-sitemap2.xml...\n",
      "Parsing https://preppykitchen.com/post-sitemap2.xml...\n",
      "Fetching https://preppykitchen.com/page-sitemap.xml...\n",
      "Parsing https://preppykitchen.com/page-sitemap.xml...\n",
      "Fetching https://preppykitchen.com/category-sitemap.xml...\n",
      "Parsing https://preppykitchen.com/category-sitemap.xml...\n",
      "Saving 1256 URLs to 'recipes.txt'...\n",
      "Done!\n"
     ]
    }
   ],
   "source": [
    "# Fetch the sitemap index\n",
    "sitemap_url = \"https://preppykitchen.com/sitemap_index.xml\"\n",
    "\n",
    "\n",
    "sitemap_xml = fetch_sitemap(sitemap_url)\n",
    "\n",
    "\n",
    "if sitemap_xml:\n",
    "        # Parse the sitemap index to get individual sitemap URLs\n",
    "        print(\"Parsing sitemap index...\")\n",
    "        sitemaps = parse_sitemap_index(sitemap_xml)\n",
    "\n",
    "        all_urls = []\n",
    "        for sitemap_url in sitemaps:\n",
    "            print(f\"Fetching {sitemap_url}...\")\n",
    "            sitemap_xml = fetch_sitemap(sitemap_url)\n",
    "            if sitemap_xml:\n",
    "                print(f\"Parsing {sitemap_url}...\")\n",
    "                recipe_urls = parse_sitemap(sitemap_xml)\n",
    "                all_urls.extend(recipe_urls)\n",
    "                \n",
    "                # Save all URLs to a file\n",
    "        print(f\"Saving {len(all_urls)} URLs to 'recipes.txt'...\")\n",
    "        save_urls(all_urls, 'recipes.txt')\n",
    "        print(\"Done!\")\n"
   ]
  }
 ],
 "metadata": {
  "kernelspec": {
   "display_name": ".venv",
   "language": "python",
   "name": "python3"
  },
  "language_info": {
   "codemirror_mode": {
    "name": "ipython",
    "version": 3
   },
   "file_extension": ".py",
   "mimetype": "text/x-python",
   "name": "python",
   "nbconvert_exporter": "python",
   "pygments_lexer": "ipython3",
   "version": "3.10.11"
  }
 },
 "nbformat": 4,
 "nbformat_minor": 2
}
