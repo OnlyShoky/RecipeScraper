{
 "cells": [
  {
   "cell_type": "code",
   "execution_count": 90,
   "metadata": {},
   "outputs": [],
   "source": [
    "import requests\n",
    "from bs4 import BeautifulSoup\n",
    "import xml.etree.ElementTree as ET\n",
    "from utils.scraper import scrape_recipe,extract_nutrition\n"
   ]
  },
  {
   "cell_type": "code",
   "execution_count": 81,
   "metadata": {},
   "outputs": [],
   "source": [
    "url = 'https://preppykitchen.com/wprm_print/cream-pie'\n",
    "url = 'https://preppykitchen.com/buttermilk-pie'\n",
    "# url = 'https://preppykitchen.com/cream-pie/'\n",
    "url = \"https://preppykitchen.com/apple-pie/\"\n",
    "try:\n",
    "    # Send a GET request to the base page\n",
    "    headers = {\"User-Agent\": \"Mozilla/5.0 (Windows NT 10.0; Win64; x64) AppleWebKit/537.36 (KHTML, like Gecko) Chrome/114.0.0.0 Safari/537.36\"}\n",
    "    response = requests.get(url, headers=headers)\n",
    "    response.raise_for_status()\n",
    "except requests.exceptions.RequestException as e:\n",
    "    print(f\"Error fetching {url}: {e}\")\n",
    "    \n",
    "# Parse the HTML content using BeautifulSoup\n",
    "soup = BeautifulSoup(response.content, 'html.parser')\n"
   ]
  },
  {
   "cell_type": "code",
   "execution_count": 82,
   "metadata": {},
   "outputs": [
    {
     "name": "stdout",
     "output_type": "stream",
     "text": [
      "https://www.youtube.com/embed/PzFo8G6YNz0\n"
     ]
    }
   ],
   "source": [
    "# Extract image URL\n",
    "video_url = soup.find('div', class_='rll-youtube-player')['data-src'] if soup.find('div', class_='rll-youtube-player') else None\n",
    "print(video_url)"
   ]
  },
  {
   "cell_type": "code",
   "execution_count": 87,
   "metadata": {},
   "outputs": [
    {
     "name": "stdout",
     "output_type": "stream",
     "text": [
      "<img alt=\"A white pie dish with an apple pie inside with a slice cut out. An apple and stack of plates in the back.\" class=\"attachment-150x150 size-150x150\" data-lazy-sizes=\"(max-width: 150px) 100vw, 150px\" data-lazy-src=\"https://preppykitchen.com/wp-content/uploads/2023/08/Apple-Pie-Recipe-Recipe-Card-330x330.jpg\" data-lazy-srcset=\"https://preppykitchen.com/wp-content/uploads/2023/08/Apple-Pie-Recipe-Recipe-Card-330x330.jpg 330w, https://preppykitchen.com/wp-content/uploads/2023/08/Apple-Pie-Recipe-Recipe-Card-360x361.jpg 360w, https://preppykitchen.com/wp-content/uploads/2023/08/Apple-Pie-Recipe-Recipe-Card-500x500.jpg 500w, https://preppykitchen.com/wp-content/uploads/2023/08/Apple-Pie-Recipe-Recipe-Card-96x96.jpg 96w\" data-pin-media=\"https://preppykitchen.com/wp-content/uploads/2023/08/Apple-Pie-Recipe-Recipe-Card.jpg\" decoding=\"async\" height=\"150\" src=\"data:image/svg+xml,%3Csvg%20xmlns='http://www.w3.org/2000/svg'%20viewBox='0%200%20150%20150'%3E%3C/svg%3E\" style=\"border-width: 0px;border-style: solid;border-color: #666666;\" width=\"150\"/>\n"
     ]
    }
   ],
   "source": [
    "# Extract image URL\n",
    "image_url = soup.find('div', class_='wprm-recipe-image').find('img')\n",
    "print(image_url)"
   ]
  },
  {
   "cell_type": "code",
   "execution_count": null,
   "metadata": {},
   "outputs": [
    {
     "name": "stdout",
     "output_type": "stream",
     "text": [
      "{'Calories': '443 kcal', 'Carbohydrates': '76 g', 'Protein': '5 g', 'Fat': '15 g', 'Saturated Fat': '6 g', 'Polyunsaturated Fat': '2 g', 'Monounsaturated Fat': '6 g', 'Trans Fat': '0.1 g', 'Cholesterol': '31 mg', 'Sodium': '185 mg', 'Potassium': '247 mg', 'Fiber': '6 g', 'Sugar': '43 g', 'Vitamin A': '215 IU', 'Vitamin C': '9 mg', 'Calcium': '28 mg', 'Iron': '2 mg'}\n"
     ]
    }
   ],
   "source": [
    "\n",
    "\"\"\"Find all nutrition containers\"\"\"\n",
    "soup = None\n",
    "nutrition_elements = soup.select('.wprm-nutrition-label-text-nutrition-container')\n",
    "print\n",
    "\n",
    "# Initialize an empty dictionary to store the nutrition data\n",
    "nutrition_dict = {}\n",
    "\n",
    "# Loop through each element and extract the nutrition details\n",
    "for element in nutrition_elements:\n",
    "    # Extract the label (e.g., Calories, Carbohydrates)\n",
    "    label = element.select_one('.wprm-nutrition-label-text-nutrition-label').text.strip(': ')\n",
    "    \n",
    "    # Extract the value (e.g., 443, 76)\n",
    "    value = element.select_one('.wprm-nutrition-label-text-nutrition-value').text\n",
    "    \n",
    "    # Extract the unit (e.g., kcal, g, mg)\n",
    "    unit = element.select_one('.wprm-nutrition-label-text-nutrition-unit').text\n",
    "    \n",
    "    # Store the data in the dictionary\n",
    "    nutrition_dict[label] = f\"{value} {unit}\"\n",
    "    \n",
    "    \n",
    "\n"
   ]
  },
  {
   "cell_type": "code",
   "execution_count": 76,
   "metadata": {},
   "outputs": [
    {
     "name": "stdout",
     "output_type": "stream",
     "text": [
      "Banana-Waffles-Recipe-Card-330x330.jpg\n"
     ]
    }
   ],
   "source": [
    "import re\n",
    "\n",
    "url = \"https://preppykitchen.com/wp-content/uploads/2024/12/Banana-Waffles-Recipe-Card-330x330.jpg\"\n",
    "match = re.search(r'([^/]+\\.jpg)$', url)\n",
    "\n",
    "if match:\n",
    "    jpg_name = match.group(1)\n",
    "    print(jpg_name)  # Output: Banana-Waffles-Recipe-Card-330x330.jpg\n",
    "else:\n",
    "    print(\"No match found\")\n"
   ]
  },
  {
   "cell_type": "code",
   "execution_count": 52,
   "metadata": {},
   "outputs": [],
   "source": [
    "import json\n",
    "import requests\n",
    "from tqdm import tqdm  # Import tqdm for the progress bar\n",
    "\n",
    "# Open and read the JSON file\n",
    "with open('dataScraped/sitemapURLS.json', 'r') as file:\n",
    "    data = json.load(file)\n",
    "\n",
    "\n",
    "data['post-sitemap']\n",
    "\n",
    "sitesParsed = 0\n",
    "for site in data['post-sitemap'][1:10]:\n",
    "    # match = re.search(r'([^/]+\\.jpg)$', url)\n",
    "    try:\n",
    "        headers = {\n",
    "            \"User-Agent\": \"Mozilla/5.0 (Windows NT 10.0; Win64; x64) AppleWebKit/537.36 (KHTML, like Gecko) Chrome/114.0.0.0 Safari/537.36\"\n",
    "        }\n",
    "        response = requests.get(site, headers=headers)\n",
    "        response.raise_for_status()\n",
    "        \n",
    "        if response.url != 'https://preppykitchen.com':\n",
    "            sitesParsed += 1\n",
    "\n",
    "    except requests.exceptions.RequestException as e:\n",
    "        print(f\"Error fetching {url}: {e}\")\n",
    "    \n"
   ]
  },
  {
   "cell_type": "code",
   "execution_count": 71,
   "metadata": {},
   "outputs": [
    {
     "name": "stdout",
     "output_type": "stream",
     "text": [
      "Processing sites:\n"
     ]
    },
    {
     "name": "stderr",
     "output_type": "stream",
     "text": [
      "Progress: 100%|██████████| 9/9 [00:00<00:00,  9.10 site/s]"
     ]
    },
    {
     "name": "stdout",
     "output_type": "stream",
     "text": [
      "\n",
      "Finished processing 9 sites.\n",
      "Successfully parsed 9 sites.\n"
     ]
    },
    {
     "name": "stderr",
     "output_type": "stream",
     "text": [
      "\n"
     ]
    }
   ],
   "source": [
    "import json\n",
    "import requests\n",
    "from tqdm import tqdm  # Import tqdm for the progress bar\n",
    "\n",
    "# Open and read the JSON file\n",
    "with open('dataScraped/sitemapURLS.json', 'r') as file:\n",
    "    data = json.load(file)\n",
    "\n",
    "# Get the URLs to process\n",
    "sites_to_process = data['post-sitemap'][1:10]\n",
    "\n",
    "sites_parsed = 0\n",
    "\n",
    "# Use tqdm to show the progress bar\n",
    "print(\"Processing sites:\")\n",
    "for site in tqdm(sites_to_process, desc=\"Progress\", unit=\" site\"):\n",
    "    try:\n",
    "        headers = {\n",
    "            \"User-Agent\": \"Mozilla/5.0 (Windows NT 10.0; Win64; x64) AppleWebKit/537.36 (KHTML, like Gecko) Chrome/114.0.0.0 Safari/537.36\"\n",
    "        }\n",
    "        response = requests.get(site, headers=headers)\n",
    "        response.raise_for_status()\n",
    "\n",
    "        if response.url != 'https://preppykitchen.com':\n",
    "            sites_parsed += 1\n",
    "\n",
    "    except requests.exceptions.RequestException as e:\n",
    "        print(f\"\\nError fetching {site}: {e}\")\n",
    "\n",
    "print(f\"\\nFinished processing {len(sites_to_process)} sites.\")\n",
    "print(f\"Successfully parsed {sites_parsed} sites.\")\n",
    "\n",
    "    \n"
   ]
  }
 ],
 "metadata": {
  "kernelspec": {
   "display_name": ".venv",
   "language": "python",
   "name": "python3"
  },
  "language_info": {
   "codemirror_mode": {
    "name": "ipython",
    "version": 3
   },
   "file_extension": ".py",
   "mimetype": "text/x-python",
   "name": "python",
   "nbconvert_exporter": "python",
   "pygments_lexer": "ipython3",
   "version": "3.10.11"
  }
 },
 "nbformat": 4,
 "nbformat_minor": 2
}
