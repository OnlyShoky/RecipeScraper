{
 "cells": [
  {
   "cell_type": "code",
   "execution_count": 14,
   "metadata": {},
   "outputs": [],
   "source": [
    "import requests\n",
    "from bs4 import BeautifulSoup\n",
    "import xml.etree.ElementTree as ET"
   ]
  },
  {
   "cell_type": "code",
   "execution_count": 204,
   "metadata": {},
   "outputs": [],
   "source": [
    "url = 'https://preppykitchen.com/wprm_print/cream-pie'\n",
    "url = 'https://preppykitchen.com/wprm_print/buttermilk-pie'\n",
    "try:\n",
    "    # Send a GET request to the base page\n",
    "    headers = {\"User-Agent\": \"Mozilla/5.0 (Windows NT 10.0; Win64; x64) AppleWebKit/537.36 (KHTML, like Gecko) Chrome/114.0.0.0 Safari/537.36\"}\n",
    "    response = requests.get(url, headers=headers)\n",
    "    response.raise_for_status()\n",
    "except requests.exceptions.RequestException as e:\n",
    "    print(f\"Error fetching {url}: {e}\")\n",
    "    \n",
    "# Parse the HTML content using BeautifulSoup\n",
    "soup = BeautifulSoup(response.content, 'html.parser')\n"
   ]
  },
  {
   "cell_type": "code",
   "execution_count": 92,
   "metadata": {},
   "outputs": [
    {
     "name": "stdout",
     "output_type": "stream",
     "text": [
      "Title: Cream Pie\n",
      "Image URL: https://preppykitchen.com/wp-content/uploads/2019/04/Cream-Pie-recipe-330x330.jpg\n"
     ]
    }
   ],
   "source": [
    "# Extract the title\n",
    "title = soup.find('h2')  # The title is typically in an <h1> tag\n",
    "if title:\n",
    "    title_text = title.get_text().strip()\n",
    "else:\n",
    "    title_text = \"Title not found\"\n",
    "\n",
    "# Extract the image URL\n",
    "image = soup.find('img')  # The image is typically in an <img> tag\n",
    "if image and 'src' in image.attrs:\n",
    "    image_url = image['src']\n",
    "else:\n",
    "    image_url = \"Image not found\"\n",
    "\n",
    "# Print the extracted information\n",
    "print(\"Title:\", title_text)\n",
    "print(\"Image URL:\", image_url)"
   ]
  },
  {
   "cell_type": "code",
   "execution_count": 93,
   "metadata": {},
   "outputs": [
    {
     "name": "stdout",
     "output_type": "stream",
     "text": [
      "Rating: 5 of 42\n"
     ]
    },
    {
     "data": {
      "text/plain": [
       "'5'"
      ]
     },
     "execution_count": 93,
     "metadata": {},
     "output_type": "execute_result"
    }
   ],
   "source": [
    "# Extract the rating div\n",
    "rating_div = soup.find('div', id='wprm-recipe-user-rating-0')\n",
    "\n",
    "# Check if the div exists and extract the 'data-average' attribute\n",
    "if rating_div and 'data-average' in rating_div.attrs:\n",
    "    rating = rating_div['data-average']\n",
    "    nbOfRatings = rating_div['data-count']  \n",
    "    print(f\"Rating: {rating} of {nbOfRatings}\")  # Output: Rating: 5\n",
    "else:\n",
    "    print(\"Rating not found\")\n",
    "    \n",
    "soup.find('div', id='wprm-recipe-user-rating-0')['data-average']\n"
   ]
  },
  {
   "cell_type": "code",
   "execution_count": 208,
   "metadata": {},
   "outputs": [],
   "source": [
    "def extract_time(time_string):\n",
    "    \"\"\"Convert time string to HH:MM:SS format\"\"\"\n",
    "    if not time_string:\n",
    "        return None\n",
    "    minutes = int(re.search(r'\\d+', time_string).group())\n",
    "    return f\"{minutes//60:02d}:{minutes%60:02d}:00\"\n",
    "\n",
    "from fractions import Fraction\n",
    "\n",
    "def convert_fraction_text(quantity_text):\n",
    "    # Define a mapping from fraction symbols to numeric string equivalents\n",
    "    fraction_map = {\n",
    "        '¼': '.25',\n",
    "        '½': '.5',\n",
    "        '¾': '.75',\n",
    "        '⅓': '.33',\n",
    "        '⅔': '.66',\n",
    "        '⅕': '.2',\n",
    "        '⅖': '.4',\n",
    "        '⅗': '.6',\n",
    "        '⅘': '.8'\n",
    "    }\n",
    "\n",
    "    # Check if the quantity text is in the mapping\n",
    "    firstNumber = '0'\n",
    "    if quantity_text[0] not in fraction_map:\n",
    "        firstNumber = quantity_text[0]\n",
    "    for number in quantity_text:\n",
    "        if number in fraction_map:\n",
    "            quantity_text =  firstNumber + fraction_map[number]\n",
    "    \n",
    "    \n",
    "    #Treat fractions \n",
    "    quantity_list = quantity_text.split()\n",
    "    #We need to treat examples like '1 1/2'\n",
    "    if(len(quantity_list) > 1):\n",
    "        sum = 0\n",
    "        for quantity in quantity_list:\n",
    "            sum += Fraction(quantity)\n",
    "        quantity_text = str(sum)  \n",
    "         \n",
    "    \n",
    "        \n",
    "    return Fraction(quantity_text)\n",
    "\n",
    "def extract_ingredients(soup):\n",
    "    \"\"\"Extract ingredients information with fractional quantities\"\"\"\n",
    "    ingredients_list = []\n",
    "    ingredients_container = soup.find('div', class_='wprm-recipe-ingredients-container')\n",
    "\n",
    "    if ingredients_container:\n",
    "        # ingredient_items = ingredients_container.find_all('li', class_='wprm-recipe-ingredient')\n",
    "        groups_ingredients = ingredients_container.find_all('div', class_='wprm-recipe-ingredient-group')\n",
    "\n",
    "        for group in groups_ingredients:\n",
    "            groupname = group.find('h4', class_='wprm-recipe-group-name')\n",
    "            ingredient_items = group.find_all('li', class_='wprm-recipe-ingredient')\n",
    "            for item in ingredient_items:\n",
    "                amount = item.find('span', class_='wprm-recipe-ingredient-amount')\n",
    "                unit = item.find('span', class_='wprm-recipe-ingredient-unit')\n",
    "                name = item.find('span', class_='wprm-recipe-ingredient-name')\n",
    "                notes = item.find('span', class_='wprm-recipe-ingredient-notes')\n",
    "\n",
    "                # Handle fractional quantities (like ½, ¼)\n",
    "                if amount:\n",
    "                    quantity_text = amount.text.strip()\n",
    "                    try:\n",
    "                        # Convert the fraction to a float if it's a valid fraction\n",
    "                        quantity_text = convert_fraction_text(quantity_text)\n",
    "                        quantity = float(Fraction(quantity_text))\n",
    "\n",
    "                    except ValueError:\n",
    "                        # If it's not a valid fraction (or not a number), keep it as None\n",
    "                        print(f\"it's not a valid fraction (or not a number), keep it as None\")\n",
    "                        quantity = None\n",
    "                else:\n",
    "                    quantity = None\n",
    "\n",
    "                ingredient_dict = {\n",
    "                    \"ingredient\": {\n",
    "                        \"name\": name.text.strip() if name else None,\n",
    "                        \"nutrition\": None\n",
    "                    },\n",
    "                    \"quantity\": quantity,\n",
    "                    \"unit\": unit.text.strip() if unit else \"whole\",\n",
    "                    \"groupName\" : groupname.text if groupname else None,\n",
    "                    \"notes\": notes.text.strip() if notes else None\n",
    "                }\n",
    "                ingredients_list.append(ingredient_dict)\n",
    "\n",
    "    return ingredients_list\n",
    "\n",
    "def extract_instructions(soup):\n",
    "    \"\"\"Extract cooking instructions\"\"\"\n",
    "    instructions_container = soup.find('div', class_='wprm-recipe-instructions-container')\n",
    "    instructions = []\n",
    "    \n",
    "    groups_instructions = instructions_container.find_all('div', class_='wprm-recipe-instruction-group')\n",
    "\n",
    "    for group in groups_instructions:\n",
    "        groupname = group.find('h4', class_='wprm-recipe-group-name')\n",
    "        instructions_group = group.find_all('ul', class_='wprm-recipe-instructions')\n",
    "        \n",
    "        if groupname :\n",
    "            instructions.append(f\"GroupName : {groupname.text}\")\n",
    "            for instruction in instructions_group:\n",
    "                instruction_items = instruction.find_all('li', class_='wprm-recipe-instruction')\n",
    "                # instructions = [f\"{i+1}. {item.text.strip()}\" for i, item in enumerate(instruction_items)]\n",
    "                instructions.extend([f\"{i+1}. {item.text.strip()}\" for i, item in enumerate(instruction_items)])\n",
    "        else :\n",
    "            if instructions_container:\n",
    "                instruction_items = instructions_container.find_all('li', class_='wprm-recipe-instruction')\n",
    "                instructions = [f\"{i+1}. {item.text.strip()}\" for i, item in enumerate(instruction_items)]\n",
    "    \n",
    "    return \"\\n\".join(instructions)"
   ]
  },
  {
   "cell_type": "code",
   "execution_count": 209,
   "metadata": {},
   "outputs": [
    {
     "data": {
      "text/plain": [
       "'1. Preheat the oven to 350F.\\n2. In a large mixing bowl, combine the sugar and eggs and whisk until well combined. Sprinkle in the flour, then add the lemon zest, salt, and nutmeg, and whisk to combine.\\n3. Pour in the buttermilk, lemon juice, and vanilla extract, then mix well.\\n4. Finally, whisk in the melted butter. Pour the filling into the prepared pie crust. (You can brush the edge with an egg wash for a more golden crust if desired.)\\n5. Bake for about 40 minutes or until the crust is golden brown and the center barely wobbles when gently shaken. Loosely wrap the edge with foil after about 20 minutes of baking if they appear to be browning too quickly.\\n6. Allow to cool completely before slicing. Top each serving with a dollop of whipped cream.'"
      ]
     },
     "execution_count": 209,
     "metadata": {},
     "output_type": "execute_result"
    }
   ],
   "source": [
    "extract_instructions(soup)"
   ]
  },
  {
   "cell_type": "code",
   "execution_count": 182,
   "metadata": {},
   "outputs": [
    {
     "name": "stdout",
     "output_type": "stream",
     "text": [
      "INGREDIENTS\n",
      "For the Pie Crust\n",
      "For the Filling\n",
      "For the Whipped Cream Topping\n",
      "18\n",
      "4\n",
      "<h4 class=\"wprm-recipe-group-name wprm-recipe-ingredient-group-name wprm-block-text-bold\">INGREDIENTS</h4>\n",
      "<h4 class=\"wprm-recipe-group-name wprm-recipe-ingredient-group-name wprm-block-text-bold\">For the Pie Crust</h4>\n",
      "<h4 class=\"wprm-recipe-group-name wprm-recipe-ingredient-group-name wprm-block-text-bold\">For the Filling</h4>\n",
      "<h4 class=\"wprm-recipe-group-name wprm-recipe-ingredient-group-name wprm-block-text-bold\">For the Whipped Cream Topping</h4>\n"
     ]
    }
   ],
   "source": [
    "ingredients_container = soup.find('div', class_='wprm-recipe-ingredients-container')\n",
    "titles = ingredients_container.find_all('h4', class_='wprm-recipe-group-name')\n",
    "ingredients_container.find_all('li', class_='wprm-recipe-ingredient')\n",
    "ingredient_items = ingredients_container.find_all('li', class_='wprm-recipe-ingredient')\n",
    "\n",
    "# extract_ingredients(soup)\n",
    "for title in titles :\n",
    "    print(title.text)\n",
    "print(len(ingredient_items))\n",
    "groups = ingredients_container.find_all('div', class_='wprm-recipe-ingredient-group')\n",
    "print(len(groups))\n",
    "\n",
    "for group in groups:\n",
    "    groupname = group.find('h4', class_='wprm-recipe-group-name')\n",
    "    ingredients = group.find_all('li', class_='wprm-recipe-ingredient')\n",
    "    print(groupname)\n",
    "    # for ingredient in ingredients:\n",
    "    #     print(f\"ingredient.text : {ingredient.text} : {groupname.text}\") \n"
   ]
  },
  {
   "cell_type": "code",
   "execution_count": 187,
   "metadata": {},
   "outputs": [
    {
     "name": "stdout",
     "output_type": "stream",
     "text": [
      "INSTRUCTIONS\n",
      "For the Pie Crust\n",
      "For the Filling\n",
      " For the Whipped Cream Topping:\n",
      "For the Assembly\n"
     ]
    },
    {
     "data": {
      "text/plain": [
       "''"
      ]
     },
     "execution_count": 187,
     "metadata": {},
     "output_type": "execute_result"
    }
   ],
   "source": []
  },
  {
   "cell_type": "code",
   "execution_count": 76,
   "metadata": {},
   "outputs": [
    {
     "name": "stdout",
     "output_type": "stream",
     "text": [
      "Banana-Waffles-Recipe-Card-330x330.jpg\n"
     ]
    }
   ],
   "source": [
    "import re\n",
    "\n",
    "url = \"https://preppykitchen.com/wp-content/uploads/2024/12/Banana-Waffles-Recipe-Card-330x330.jpg\"\n",
    "match = re.search(r'([^/]+\\.jpg)$', url)\n",
    "\n",
    "if match:\n",
    "    jpg_name = match.group(1)\n",
    "    print(jpg_name)  # Output: Banana-Waffles-Recipe-Card-330x330.jpg\n",
    "else:\n",
    "    print(\"No match found\")\n"
   ]
  }
 ],
 "metadata": {
  "kernelspec": {
   "display_name": ".venv",
   "language": "python",
   "name": "python3"
  },
  "language_info": {
   "codemirror_mode": {
    "name": "ipython",
    "version": 3
   },
   "file_extension": ".py",
   "mimetype": "text/x-python",
   "name": "python",
   "nbconvert_exporter": "python",
   "pygments_lexer": "ipython3",
   "version": "3.10.11"
  }
 },
 "nbformat": 4,
 "nbformat_minor": 2
}
